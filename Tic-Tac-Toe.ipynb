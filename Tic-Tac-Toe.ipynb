{
 "cells": [
  {
   "cell_type": "markdown",
   "id": "d581f7b9",
   "metadata": {},
   "source": [
    "## Basic Tic-Tac-Toe Game\n",
    "\n",
    "2 Player game\n",
    "Fill in 3 consecutive 'x' or 'o' to win on the board numbered from 1-9"
   ]
  },
  {
   "cell_type": "code",
   "execution_count": 1,
   "id": "df510d0f",
   "metadata": {},
   "outputs": [],
   "source": [
    "def display_board(board):\n",
    "    print(' {} | {} | {} '.format(board[0],board[1],board[2]))\n",
    "    print('---+---+---')\n",
    "    print(' {} | {} | {} '.format(board[3],board[4],board[5]))\n",
    "    print('---+---+---')\n",
    "    print(' {} | {} | {} '.format(board[6],board[7],board[8]))\n",
    "    print(' ')"
   ]
  },
  {
   "cell_type": "markdown",
   "id": "362002fe",
   "metadata": {},
   "source": [
    "*Implements winning condition*"
   ]
  },
  {
   "cell_type": "code",
   "execution_count": 2,
   "id": "3722d703",
   "metadata": {},
   "outputs": [],
   "source": [
    "Winning_lines = [\n",
    "    [0,1,2], [3,4,5], [6,7,8],  #Each row\n",
    "    [0,3,6], [1,4,7], [2,5,8],  #Each column\n",
    "    [0,4,8], [2,4,6]            #Each diagonal\n",
    "]\n",
    "\n",
    "def check_win(board, player):\n",
    "    for a,b,c in Winning_lines:               # Check Winning condition\n",
    "        if board[a]==board[b]==board[c]!=' ':\n",
    "            print('***  Player {} wins  ***'.format(player))\n",
    "            return True\n",
    "    \n",
    "    if ' ' not in board:                      # If every space is filled and nobody wins then draw\n",
    "        print('___Game Draw___')\n",
    "        return True\n",
    "    \n",
    "    return False"
   ]
  },
  {
   "cell_type": "markdown",
   "id": "3b1c8757",
   "metadata": {},
   "source": [
    "*Fills the spaces with x or o*"
   ]
  },
  {
   "cell_type": "code",
   "execution_count": 3,
   "id": "677f9b66",
   "metadata": {},
   "outputs": [],
   "source": [
    "def player_turn(board, player):\n",
    "    \n",
    "    while True:   # Choose a position on board and check for invalid moves\n",
    "        print('Player {} turn :- '.format(player))\n",
    "        pos = input('Choose a position: ')\n",
    "        \n",
    "        if not pos.isdigit() or int(pos) not in range(1,10):\n",
    "            print('!! Choose a digit from 1-9...')\n",
    "        else:\n",
    "            pos = int(pos)\n",
    "            if board[pos-1] != ' ':\n",
    "                print('!! Already filled in.')\n",
    "            else:\n",
    "                break\n",
    "    \n",
    "    if player == 1:\n",
    "        board[pos-1] = 'x'\n",
    "    else:\n",
    "        board[pos-1] = 'o'\n",
    "    \n",
    "    display_board(board)"
   ]
  },
  {
   "cell_type": "markdown",
   "id": "6587bfe1",
   "metadata": {},
   "source": [
    "**Main game**"
   ]
  },
  {
   "cell_type": "code",
   "execution_count": 4,
   "id": "9b68d3de",
   "metadata": {},
   "outputs": [],
   "source": [
    "def game_play():\n",
    "    board = ['1','2','3','4','5','6','7','8','9']\n",
    "    display_board(board)\n",
    "    \n",
    "    game_on = True\n",
    "    while game_on:\n",
    "        print('--------------------New Game--------------------')\n",
    "        board = [' ']*9\n",
    "        \n",
    "        while True:\n",
    "            player_turn(board, 1)   # Player1 turn\n",
    "            if check_win(board,1):\n",
    "                break\n",
    "\n",
    "            player_turn(board, 2)   # Player2 turn\n",
    "            if check_win(board,2):\n",
    "                break\n",
    "        \n",
    "        while True:\n",
    "            op = input('Do you want to continue (Y/N): ')\n",
    "            if op.upper() != 'Y' and op.upper() != 'N':\n",
    "                print('Select Y or N ...')\n",
    "            else:\n",
    "                if op.upper() == 'N':\n",
    "                    game_on = False\n",
    "                break"
   ]
  },
  {
   "cell_type": "code",
   "execution_count": null,
   "id": "f38aea99",
   "metadata": {
    "scrolled": false
   },
   "outputs": [
    {
     "name": "stdout",
     "output_type": "stream",
     "text": [
      " 1 | 2 | 3 \n",
      "---+---+---\n",
      " 4 | 5 | 6 \n",
      "---+---+---\n",
      " 7 | 8 | 9 \n",
      " \n",
      "--------------------New Game--------------------\n",
      "Player 1 turn :- \n",
      "Choose a position: 1\n",
      " x |   |   \n",
      "---+---+---\n",
      "   |   |   \n",
      "---+---+---\n",
      "   |   |   \n",
      " \n",
      "Player 2 turn :- \n",
      "Choose a position: 8\n",
      " x |   |   \n",
      "---+---+---\n",
      "   |   |   \n",
      "---+---+---\n",
      "   | o |   \n",
      " \n",
      "Player 1 turn :- \n",
      "Choose a position: 5\n",
      " x |   |   \n",
      "---+---+---\n",
      "   | x |   \n",
      "---+---+---\n",
      "   | o |   \n",
      " \n",
      "Player 2 turn :- \n",
      "Choose a position: 3\n",
      " x |   | o \n",
      "---+---+---\n",
      "   | x |   \n",
      "---+---+---\n",
      "   | o |   \n",
      " \n",
      "Player 1 turn :- \n",
      "Choose a position: 9\n",
      " x |   | o \n",
      "---+---+---\n",
      "   | x |   \n",
      "---+---+---\n",
      "   | o | x \n",
      " \n",
      "***  Player 1 wins  ***\n"
     ]
    }
   ],
   "source": [
    "game_play()"
   ]
  }
 ],
 "metadata": {
  "kernelspec": {
   "display_name": "Python 3",
   "language": "python",
   "name": "python3"
  },
  "language_info": {
   "codemirror_mode": {
    "name": "ipython",
    "version": 3
   },
   "file_extension": ".py",
   "mimetype": "text/x-python",
   "name": "python",
   "nbconvert_exporter": "python",
   "pygments_lexer": "ipython3",
   "version": "3.8.8"
  }
 },
 "nbformat": 4,
 "nbformat_minor": 5
}

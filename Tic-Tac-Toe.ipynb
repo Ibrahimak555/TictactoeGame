{
 "cells": [
  {
   "cell_type": "markdown",
   "id": "d581f7b9",
   "metadata": {},
   "source": [
    "## Basic Tic-Tac-Toe Game\n",
    "\n",
    "2 Player game\n",
    "Fill in 3 consecutive 'x' or 'o' to win on the board numbered from 1-9"
   ]
  },
  {
   "cell_type": "code",
   "execution_count": null,
   "id": "df510d0f",
   "metadata": {},
   "outputs": [],
   "source": [
    "def display_board(board):\n",
    "    print(' {} | {} | {} '.format(board[0],board[1],board[2]))\n",
    "    print('---+---+---')\n",
    "    print(' {} | {} | {} '.format(board[3],board[4],board[5]))\n",
    "    print('---+---+---')\n",
    "    print(' {} | {} | {} '.format(board[6],board[7],board[8]))\n",
    "    print(' ')"
   ]
  },
  {
   "cell_type": "markdown",
   "id": "362002fe",
   "metadata": {},
   "source": [
    "*Implements winning condition*"
   ]
  },
  {
   "cell_type": "code",
   "execution_count": null,
   "id": "3722d703",
   "metadata": {},
   "outputs": [],
   "source": [
    "def check_win(board, player):\n",
    "    if player == 1:\n",
    "        a = 'x'\n",
    "    elif player == 2:\n",
    "        a = 'o'\n",
    "    \n",
    "    # Check Winning condition\n",
    "    p = False\n",
    "    for i in range(0,7,3): #Each row\n",
    "        if board[i]==board[i+1]==board[i+2]==a:\n",
    "            p = True\n",
    "    for i in range(0,3): #Each column\n",
    "        if board[i]==board[i+3]==board[i+6]==a:\n",
    "            p = True\n",
    "    if board[0]==board[4]==board[8]==a: # both diagonals\n",
    "        p = True\n",
    "    if board[2]==board[4]==board[6]==a:\n",
    "        p = True\n",
    "    \n",
    "    if p:\n",
    "        print('***__Player {} wins__***'.format(player))\n",
    "        return True\n",
    "    \n",
    "    # If every space is filled and nobody wins then draw\n",
    "    if ' ' not in board:\n",
    "        print('___Game Draw___')\n",
    "        return True\n",
    "    \n",
    "    return False"
   ]
  },
  {
   "cell_type": "markdown",
   "id": "3b1c8757",
   "metadata": {},
   "source": [
    "*Fills the spaces with x or o*"
   ]
  },
  {
   "cell_type": "code",
   "execution_count": null,
   "id": "677f9b66",
   "metadata": {},
   "outputs": [],
   "source": [
    "def player_turn(board, player):\n",
    "    p = True\n",
    "    while p:   # Choose a position on board and check for invalid moves\n",
    "        if player == 1:\n",
    "            print('Player 1 turn :- ')\n",
    "        elif player == 2:\n",
    "            print('Player 2 turn :- ')\n",
    "        pos = int(input('Choose a position: '))\n",
    "        \n",
    "        if pos in range(1,10):\n",
    "            if board[pos-1]=='x' or board[pos-1]=='o':\n",
    "                print('!! Already filled in.')\n",
    "            else:\n",
    "                p = False\n",
    "        else:\n",
    "            print('!! Invalid position chosen...')\n",
    "    \n",
    "    if player == 1:\n",
    "        board[pos-1] = 'x'\n",
    "    elif player == 2:\n",
    "        board[pos-1] = 'o'\n",
    "    \n",
    "    display_board(board)"
   ]
  },
  {
   "cell_type": "markdown",
   "id": "6587bfe1",
   "metadata": {},
   "source": [
    "**Main game**"
   ]
  },
  {
   "cell_type": "code",
   "execution_count": null,
   "id": "9b68d3de",
   "metadata": {},
   "outputs": [],
   "source": [
    "def game_play():\n",
    "    board = ['1','2','3','4','5','6','7','8','9']\n",
    "    display_board(board)\n",
    "    \n",
    "    game_on = True\n",
    "    while game_on:\n",
    "        print('--------------------New Game--------------------')\n",
    "        for i in range(0,9):\n",
    "            board[i] = ' '\n",
    "        \n",
    "        game_run = True\n",
    "        while game_run:\n",
    "            player_turn(board, 1)   # Player1 turn\n",
    "            if check_win(board,1):\n",
    "                game_run = False\n",
    "                break\n",
    "\n",
    "            player_turn(board, 2)   # Player2 turn\n",
    "            if check_win(board,2):\n",
    "                game_run = False\n",
    "        \n",
    "        YesNo = False\n",
    "        while YesNo == False:\n",
    "            on = input('Do you want to continue (Y/N): ')\n",
    "            if(on.upper() == 'Y'):\n",
    "                YesNo = True\n",
    "            elif(on.upper() == 'N'):\n",
    "                game_on = False\n",
    "                YesNo = True\n",
    "            else:\n",
    "                print('Select Y or N ...')\n",
    "    \n",
    "    "
   ]
  },
  {
   "cell_type": "code",
   "execution_count": null,
   "id": "f38aea99",
   "metadata": {},
   "outputs": [],
   "source": [
    "game_play()"
   ]
  }
 ],
 "metadata": {
  "kernelspec": {
   "display_name": "Python 3",
   "language": "python",
   "name": "python3"
  },
  "language_info": {
   "codemirror_mode": {
    "name": "ipython",
    "version": 3
   },
   "file_extension": ".py",
   "mimetype": "text/x-python",
   "name": "python",
   "nbconvert_exporter": "python",
   "pygments_lexer": "ipython3",
   "version": "3.8.8"
  }
 },
 "nbformat": 4,
 "nbformat_minor": 5
}
